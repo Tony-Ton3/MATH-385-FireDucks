{
 "cells": [
  {
   "cell_type": "markdown",
   "metadata": {},
   "source": [
    "# FireDucks: A Modern Alternative to Pandas\n",
    "\n",
    "## Introduction\n",
    "FireDucks is a powerful alternative to pandas, designed to be a drop-in \n",
    "replacement that can seamlessly integrate with your existing pandas code.\n",
    "This tutorial will guide you through installing FireDucks and\n",
    "understanding its key usage patterns.\n",
    "\n",
    "## System Requirements\n",
    "### Prerequisites\n",
    "- Python (version >3.8, <=3.12)\n",
    "- Linux environment (x86_64 architecture) or Windows with WSL\n",
    "\n",
    "> **Note:** Currently, FireDucks is only available for Linux (manylinux) on x86_64 architecture."
   ]
  },
  {
   "cell_type": "markdown",
   "metadata": {},
   "source": [
    "#"
   ]
  },
  {
   "cell_type": "markdown",
   "metadata": {},
   "source": [
    "## FireDucks Advantages\n",
    "\n",
    "#### ✨ Key Benefits:\n",
    "\n",
    "1. **Massive Speedup**\n",
    "   - Dramatically faster data processing\n",
    "   - Optimized execution model\n",
    "\n",
    "2. **100% Compatibility with Existing Pandas Code**\n",
    "   - Works with all pandas operations\n",
    "   - No need to learn new syntax\n",
    "\n",
    "3. **Zero Code Change**\n",
    "   - Direct replacement for pandas\n",
    "   - No refactoring needed\n",
    "\n",
    "4. **Effortless / Super Easy to Use**\n",
    "   - Simple pip installation\n",
    "   - Immediate integration"
   ]
  },
  {
   "cell_type": "markdown",
   "metadata": {},
   "source": [
    "#"
   ]
  },
  {
   "cell_type": "markdown",
   "metadata": {},
   "source": [
    "## Installation\n",
    "    pip install fireducks"
   ]
  },
  {
   "cell_type": "markdown",
   "metadata": {},
   "source": [
    "#"
   ]
  },
  {
   "cell_type": "markdown",
   "metadata": {},
   "source": [
    "## Two Ways to Use FireDucks\n",
    "\n",
    "### 1. Import Hook (For Existing Projects)\n",
    "Perfect for existing pandas projects - no code changes needed! FireDucks will automatically replace all pandas imports with its own implementation.\n",
    "\n",
    "#### For Terminal/Python Scripts:\n",
    "\n",
    "    python3 -m fireducks.pandas your_script.py\n",
    "\n",
    "#### For Jupyter Notebook:\n",
    "    %load_ext fireducks.pandas\n",
    "    import pandas as pd    \n",
    "\n",
    ">  **Note:** use import hooks for existing program as your program may include many Python scripts which import pandas internally\n",
    "\n",
    "### 2. Explicit Import (For New Projects)\n",
    "For new projects, you can directly import FireDucks instead of pandas. This is the most straightforward approach when starting fresh.\n",
    "\n",
    "    import fireducks.pandas as pd"
   ]
  },
  {
   "cell_type": "markdown",
   "metadata": {},
   "source": [
    "#"
   ]
  },
  {
   "cell_type": "markdown",
   "metadata": {},
   "source": [
    "## Execution Model: Lazy vs Eager\n",
    "### Pandas (Eager Execution)\n",
    "Pandas executes operations immediately when they are called:\n",
    "```python\n",
    "df = pd.read_csv(\"data.csv\")      # Reads file immediately\n",
    "df = df.sort_values(\"a\")          # Sorts immediately\n",
    "df.to_csv(\"sorted.csv\")           # Writes immediately"
   ]
  },
  {
   "cell_type": "code",
   "execution_count": null,
   "metadata": {},
   "outputs": [],
   "source": [
    "# Eager Execution (pandas)\n",
    "import pandas as pd\n",
    "import time\n",
    "\n",
    "# Timing for read_csv\n",
    "t0 = time.time()\n",
    "df = pd.read_csv(\"https://raw.githubusercontent.com/roualdes/data/master/carnivora.csv\")\n",
    "t1 = time.time()\n",
    "print(f\"Read CSV took: {t1-t0:.3f} seconds\")\n",
    "\n",
    "# Timing for sort_values\n",
    "t0 = time.time()\n",
    "df = df.sort_values(by=\"Order\")\n",
    "t1 = time.time()\n",
    "print(f\"Sort took: {t1-t0:.3f} seconds\")\n",
    "\n",
    "# Timing for to_csv\n",
    "t0 = time.time()\n",
    "df.to_csv(\"sorted_carnivora.csv\")\n",
    "t1 = time.time()\n",
    "print(f\"Write CSV took: {t1-t0:.3f} seconds\")"
   ]
  },
  {
   "cell_type": "markdown",
   "metadata": {},
   "source": [
    "### FireDucks (Lazy Execution)\n",
    "FireDucks delays operations until results are actually needed:\n",
    "```python\n",
    "df = pd.read_csv(\"data.csv\")      # Just plans to read(creates intermediate language)\n",
    "df = df.sort_values(\"a\")          # Just plans to sort\n",
    "df.to_csv(\"sorted.csv\")           # NOW executes everything at once!"
   ]
  },
  {
   "cell_type": "code",
   "execution_count": 2,
   "metadata": {},
   "outputs": [
    {
     "name": "stdout",
     "output_type": "stream",
     "text": [
      "Plan read CSV took: 0.152 seconds\n",
      "Plan sort took: 0.002 seconds\n",
      "Execute all operations took: 0.161 seconds\n"
     ]
    }
   ],
   "source": [
    "# Lazy Execution (FireDucks)\n",
    "import fireducks.pandas as pd\n",
    "import time\n",
    "\n",
    "# Timing for read_csv (just planning)\n",
    "t0 = time.time()\n",
    "df = pd.read_csv(\"https://raw.githubusercontent.com/roualdes/data/master/carnivora.csv\")\n",
    "t1 = time.time()\n",
    "print(f\"Plan read CSV took: {t1-t0:.3f} seconds\")\n",
    "\n",
    "# Timing for sort_values (just planning)\n",
    "t0 = time.time()\n",
    "df = df.sort_values(by=\"Order\")\n",
    "t1 = time.time()\n",
    "print(f\"Plan sort took: {t1-t0:.3f} seconds\")\n",
    "\n",
    "# Timing for to_csv (actual execution of all operations)\n",
    "t0 = time.time()\n",
    "df.to_csv(\"sorted_carnivora.csv\")\n",
    "t1 = time.time()\n",
    "print(f\"Execute all operations took: {t1-t0:.3f} seconds\")"
   ]
  },
  {
   "cell_type": "markdown",
   "metadata": {},
   "source": [
    "## How FireDucks Achieves Better Performance\n",
    "\n",
    "FireDucks uses two main mechanisms for acceleration:\n",
    "\n",
    "### 1. Compiler Optimization\n",
    "FireDucks uses a smart compiler that optimizes your code before running it:\n",
    "```python\n",
    "# Original code (what you write)\n",
    "selected = df[df[\"a\"] > 10][\"b\"]\n",
    "\n",
    "# Optimized code (what FireDucks actually runs)\n",
    "tmp = df[[\"a\", \"b\"]]\n",
    "selected = tmp[df[\"a\"] > 10][\"b\"]"
   ]
  },
  {
   "cell_type": "markdown",
   "metadata": {},
   "source": [
    "The Compiler:\n",
    "\n",
    "### 1. Converts Python Code to IR (Intermediate Language)\n",
    "FireDucks converts your Python DataFrame operations into a specialized intermediate language designed for optimal performance.\n",
    "\n",
    "### 2. Automatic DataFrame Optimization\n",
    "The compiler intelligently analyzes your DataFrame operations and:\n",
    "- Optimizes column selections\n",
    "- Minimizes memory usage\n",
    "- Reduces redundant operations\n",
    "\n",
    "### 3. Expert-Level Optimizations\n",
    "Automatically applies optimizations that typically require deep DataFrame knowledge:\n",
    "- Reorders operations for efficiency\n",
    "- Uses column-oriented processing\n",
    "- Optimizes data access patterns\n",
    "\n",
    "### 4. Consistent Results\n",
    "While making all these optimizations, FireDucks ensures:\n",
    "- Same output as regular pandas\n",
    "- No change in data accuracy\n",
    "- Maintains data integrity\n"
   ]
  },
  {
   "cell_type": "markdown",
   "metadata": {},
   "source": [
    "### 2. Multithreading\n",
    "\n",
    "FireDucks has a powerful backend system that:\n",
    "\n",
    "#### High-Performance Data Structure\n",
    "* Uses Apache Arrow for efficient data handling\n",
    "* Optimized for modern CPU architectures\n",
    "* Column-oriented storage for faster operations\n",
    "\n",
    "#### Parallel Processing\n",
    "* Leverages multiple CPU cores simultaneously\n",
    "* Automatically splits work across threads\n",
    "* Processes large datasets more efficiently\n",
    "\n",
    "#### Hardware Flexibility \n",
    "* Configurable for different hardware setups\n",
    "* Optimizes for available CPU cores\n",
    "* Future support for GPU acceleration\n",
    "\n",
    "#### Automatic Optimization\n",
    "* Parallelizes operations without user intervention\n",
    "* Finds the most efficient execution path\n",
    "* Eliminates redundant operations\n",
    "\n",
    "> **Key Advantage:** Think of FireDucks like a chess grandmaster - while pandas makes each move immediately, FireDucks plans the entire game ahead of time. This planning allows it to find the most efficient way to execute your data operations, just like how a chess player can think several moves ahead to find the best strategy!"
   ]
  },
  {
   "cell_type": "markdown",
   "metadata": {},
   "source": []
  }
 ],
 "metadata": {
  "kernelspec": {
   "display_name": "Python 3 (ipykernel)",
   "language": "python",
   "name": "python3"
  },
  "language_info": {
   "codemirror_mode": {
    "name": "ipython",
    "version": 3
   },
   "file_extension": ".py",
   "mimetype": "text/x-python",
   "name": "python",
   "nbconvert_exporter": "python",
   "pygments_lexer": "ipython3",
   "version": "3.10.12"
  }
 },
 "nbformat": 4,
 "nbformat_minor": 4
}
